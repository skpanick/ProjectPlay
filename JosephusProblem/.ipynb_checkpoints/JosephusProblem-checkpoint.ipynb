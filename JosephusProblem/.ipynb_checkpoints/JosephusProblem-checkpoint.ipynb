{
 "cells": [
  {
   "cell_type": "markdown",
   "metadata": {},
   "source": [
    "# Josephus Problem\n",
    "## author : Shreejith Panicker"
   ]
  },
  {
   "cell_type": "markdown",
   "metadata": {},
   "source": [
    "Description of the problem: <br>\n",
    "It is counting out game, where we want to predict who will survive when a group of people are standing in a circle and every alternate man is killed."
   ]
  },
  {
   "cell_type": "code",
   "execution_count": 1,
   "metadata": {},
   "outputs": [],
   "source": [
    "import math"
   ]
  },
  {
   "cell_type": "code",
   "execution_count": 2,
   "metadata": {},
   "outputs": [],
   "source": [
    "def formula_out(circle):\n",
    "    '''\n",
    "    Shows the working of the formula\n",
    "    '''\n",
    "    print(\"winner is \" + str(int(2*(circle - math.pow(2,math.floor(math.log2(circle)))) + 1)))\n",
    "    print(\"closest power of 2 is \"+str(int(math.pow(2,math.floor(math.log2(circle)))))+\n",
    "          \" i.e. 2^\"+str(int(math.floor(math.log2(circle)))))        "
   ]
  },
  {
   "cell_type": "code",
   "execution_count": 3,
   "metadata": {},
   "outputs": [],
   "source": [
    "def play_game(circle):\n",
    "    '''\n",
    "    Kills the next person until only one remains\n",
    "    '''\n",
    "    kill_list = list(range(1,circle+1))\n",
    "    i = 1\n",
    "    while (len(kill_list)> 1):\n",
    "        print(\"Kill : \"+str(kill_list[i]))\n",
    "        old_i = i\n",
    "        if i < len(kill_list) - 2:\n",
    "            i = i + 1\n",
    "        else:\n",
    "            if kill_list[i] == kill_list[-1]:\n",
    "                i = 1\n",
    "            else:\n",
    "                i = 0\n",
    "        del kill_list[old_i]\n",
    "    print(\"survives : \"+str(kill_list[0]))"
   ]
  },
  {
   "cell_type": "code",
   "execution_count": 4,
   "metadata": {},
   "outputs": [],
   "source": [
    "def the_game():\n",
    "    '''\n",
    "    Control function\n",
    "    '''\n",
    "    #Size of the circle\n",
    "    circle = int(input(\"What is the size of your circle? : \"))\n",
    "    formula_out(circle)\n",
    "    playGame = input(\"Want to see it play kill by kill (Y/N)? : \")\n",
    "    if (playGame.lower() == \"Y\".lower()):\n",
    "        play_game(circle)"
   ]
  },
  {
   "cell_type": "code",
   "execution_count": 5,
   "metadata": {},
   "outputs": [
    {
     "name": "stdout",
     "output_type": "stream",
     "text": [
      "What is the size of your circle? : 5\n",
      "winner is 3\n",
      "closest power of 2 is 4 i.e. 2^2\n",
      "Want to see it play kill by kill (Y/N)? : Y\n",
      "Kill : 2\n",
      "Kill : 4\n",
      "Kill : 1\n",
      "Kill : 5\n",
      "survives : 3\n",
      "\n",
      "wanna continue (Y/N)? : Y\n",
      "What is the size of your circle? : 10\n",
      "winner is 5\n",
      "closest power of 2 is 8 i.e. 2^3\n",
      "Want to see it play kill by kill (Y/N)? : Y\n",
      "Kill : 2\n",
      "Kill : 4\n",
      "Kill : 6\n",
      "Kill : 8\n",
      "Kill : 10\n",
      "Kill : 3\n",
      "Kill : 7\n",
      "Kill : 1\n",
      "Kill : 9\n",
      "survives : 5\n",
      "\n",
      "wanna continue (Y/N)? : Y\n",
      "What is the size of your circle? : 500\n",
      "winner is 489\n",
      "closest power of 2 is 256 i.e. 2^8\n",
      "Want to see it play kill by kill (Y/N)? : N\n",
      "\n",
      "wanna continue (Y/N)? : N\n"
     ]
    }
   ],
   "source": [
    "choice = \"Y\"\n",
    "while(choice.lower() == \"Y\".lower()):\n",
    "    the_game()\n",
    "    choice = input(\"\\nwanna continue (Y/N)? : \")"
   ]
  },
  {
   "cell_type": "code",
   "execution_count": null,
   "metadata": {},
   "outputs": [],
   "source": []
  }
 ],
 "metadata": {
  "kernelspec": {
   "display_name": "Python 3",
   "language": "python",
   "name": "python3"
  },
  "language_info": {
   "codemirror_mode": {
    "name": "ipython",
    "version": 3
   },
   "file_extension": ".py",
   "mimetype": "text/x-python",
   "name": "python",
   "nbconvert_exporter": "python",
   "pygments_lexer": "ipython3",
   "version": "3.7.0"
  }
 },
 "nbformat": 4,
 "nbformat_minor": 2
}
